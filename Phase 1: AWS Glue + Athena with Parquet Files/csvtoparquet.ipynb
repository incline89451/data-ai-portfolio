{
 "cells": [
  {
   "cell_type": "markdown",
   "id": "8a03cb6e-61fb-4169-976b-85172830eece",
   "metadata": {},
   "source": [
    "<h2>This Python code example looks to a local file and coverts 25+ .csv files into Parquet files.</h2>\n",
    "\n",
    "- Scans a folder (~/Desktop/csvinput) for CSV files.\n",
    "- glob finds files matching a specified pattern (here, all .csv)\n",
    "- Creates an output structure (~/Desktop/csvdatabase/<table_name>/).\n",
    "- Reads each CSV, trying multiple encodings to avoid crashes.\n",
    "- Converts the CSV into Parquet format (a compressed, columnar storage format that’s more efficient than CSV).\n",
    "- Saves the Parquet file in its own subfolder.\n",
    "\n",
    "<h2> Error handling of bad data.</h2>\n",
    "Bad data is an unfortunate reaility we all have to deal with.  In the example below, the Python script ingores any .csv row where there is an issue.  Since this is test data, I decised to skip the bad rows.  If this is production data, you would want different error handling to identify and fix the bad data.\n",
    "\n",
    "\n",
    "\n",
    "\n",
    "\n",
    "\n",
    "\n"
   ]
  },
  {
   "cell_type": "code",
   "execution_count": null,
   "id": "06debbfb-cea8-4589-93e2-68b5ba464328",
   "metadata": {},
   "outputs": [],
   "source": [
    "import pandas as pd\n",
    "import os\n",
    "from glob import glob\n",
    "\n",
    "csv_folder = os.path.expanduser('~/Desktop/cvsinput')        \n",
    "database_folder = os.path.expanduser('~/Desktop/csvdatabase')\n",
    "os.makedirs(database_folder, exist_ok=True)\n",
    "\n",
    "csv_files = glob(os.path.join(csv_folder, '*.csv'))\n",
    "\n",
    "for file in csv_files:\n",
    "    table_name = os.path.splitext(os.path.basename(file))[0]\n",
    "    table_folder = os.path.join(database_folder, table_name)\n",
    "    os.makedirs(table_folder, exist_ok=True)\n",
    "    output_path = os.path.join(table_folder, f'{table_name}.parquet')\n",
    "\n",
    "    # Try multiple encodings and parsing engines\n",
    "    encodings = ['utf-8', 'utf-8-sig', 'latin1', 'cp1252']\n",
    "    df = None\n",
    "    for enc in encodings:\n",
    "        try:\n",
    "            # Use python engine and skip bad lines\n",
    "            df = pd.read_csv(file, encoding=enc, engine='python', on_bad_lines='skip')\n",
    "            print(f\"Read {file} using {enc}\")\n",
    "            break\n",
    "        except Exception as e:\n",
    "            print(f\"Failed with encoding {enc}: {e}\")\n",
    "    \n",
    "    if df is None:\n",
    "        print(f\"Skipping {file} completely due to unreadable encoding or malformed rows\")\n",
    "        continue\n",
    "\n",
    "    df.to_parquet(output_path, engine='pyarrow', index=False)\n",
    "    print(f\"Saved {table_name} as Parquet in {table_folder}\")\n",
    "\n"
   ]
  }
 ],
 "metadata": {
  "kernelspec": {
   "display_name": "Python 3 (ipykernel)",
   "language": "python",
   "name": "python3"
  },
  "language_info": {
   "codemirror_mode": {
    "name": "ipython",
    "version": 3
   },
   "file_extension": ".py",
   "mimetype": "text/x-python",
   "name": "python",
   "nbconvert_exporter": "python",
   "pygments_lexer": "ipython3",
   "version": "3.11.5"
  }
 },
 "nbformat": 4,
 "nbformat_minor": 5
}
